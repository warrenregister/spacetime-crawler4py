{
 "cells": [
  {
   "cell_type": "code",
   "execution_count": 1,
   "id": "934946f4",
   "metadata": {},
   "outputs": [],
   "source": [
    "import pickle\n",
    "import shelve"
   ]
  },
  {
   "cell_type": "code",
   "execution_count": 2,
   "id": "7d5502c1",
   "metadata": {},
   "outputs": [
    {
     "name": "stdout",
     "output_type": "stream",
     "text": [
      "\u001b[34mLogs\u001b[m\u001b[m                  frontier.shelve.db    sitemaps.pkl\r\n",
      "README.md             get_results.ipynb     \u001b[34mtemplate_files\u001b[m\u001b[m\r\n",
      "__init__.py           launch.py             \u001b[34mtests\u001b[m\u001b[m\r\n",
      "\u001b[34m__pycache__\u001b[m\u001b[m           max_words.pkl         \u001b[34mutils\u001b[m\u001b[m\r\n",
      "\u001b[34mbackup_datastructures\u001b[m\u001b[m \u001b[34mpackages\u001b[m\u001b[m              webcrawlernotes.md\r\n",
      "config.ini            pytestdebug.log       word_count.pkl\r\n",
      "\u001b[34mcrawler\u001b[m\u001b[m               scraper.py\r\n"
     ]
    }
   ],
   "source": [
    "!ls"
   ]
  },
  {
   "cell_type": "code",
   "execution_count": 3,
   "id": "0672b5bf",
   "metadata": {},
   "outputs": [],
   "source": [
    "fields = []\n",
    "backups = './backup_datastructures/'\n",
    "for filename in ['subdomains.pkl', 'max_words.pkl', 'word_count.pkl', 'sitemaps.pkl']:\n",
    "    with open(backups + filename, 'rb') as file:\n",
    "        fields.append(pickle.load(file))"
   ]
  },
  {
   "cell_type": "code",
   "execution_count": 4,
   "id": "5323eccd",
   "metadata": {},
   "outputs": [],
   "source": [
    "subdomains = fields[0]\n",
    "max_words = fields[1]\n",
    "word_count = fields[2]\n",
    "sitemaps = fields[3]"
   ]
  },
  {
   "cell_type": "code",
   "execution_count": 14,
   "id": "f4750f75",
   "metadata": {},
   "outputs": [],
   "source": [
    "test = shelve.open(backups + 'frontier.shelve')"
   ]
  },
  {
   "cell_type": "code",
   "execution_count": 17,
   "id": "165182b2",
   "metadata": {},
   "outputs": [],
   "source": [
    "test.close()"
   ]
  },
  {
   "cell_type": "code",
   "execution_count": 18,
   "id": "ea7c5d39",
   "metadata": {},
   "outputs": [
    {
     "name": "stdout",
     "output_type": "stream",
     "text": [
      "3058\n"
     ]
    }
   ],
   "source": [
    "unique_urls_processed = set()\n",
    "with shelve.open(backups + 'frontier.shelve') as save:\n",
    "    for url_hash, values in save.items():\n",
    "        url, depth, scraped = values\n",
    "        if scraped is True:\n",
    "            unique_urls_processed.add(url)\n",
    "print(len(unique_urls_processed))"
   ]
  },
  {
   "cell_type": "code",
   "execution_count": 6,
   "id": "5e7f2aa4",
   "metadata": {},
   "outputs": [
    {
     "data": {
      "text/plain": [
       "('https://www.stat.uci.edu/covid19', 24947)"
      ]
     },
     "execution_count": 6,
     "metadata": {},
     "output_type": "execute_result"
    }
   ],
   "source": [
    "max_words"
   ]
  },
  {
   "cell_type": "code",
   "execution_count": 7,
   "id": "10cdcc6b",
   "metadata": {},
   "outputs": [],
   "source": [
    "words = []\n",
    "for word, count in word_count.items():\n",
    "    words.append((word, count))"
   ]
  },
  {
   "cell_type": "code",
   "execution_count": 8,
   "id": "c2ecef4e",
   "metadata": {},
   "outputs": [],
   "source": [
    "words.sort(key = lambda x : x[1], reverse=True)\n",
    "words = [x for x, y in words]"
   ]
  },
  {
   "cell_type": "code",
   "execution_count": 9,
   "id": "dc36c6de",
   "metadata": {},
   "outputs": [
    {
     "data": {
      "text/plain": [
       "['uci',\n",
       " 'computer',\n",
       " '2022',\n",
       " '2021',\n",
       " 'science',\n",
       " 'school',\n",
       " 'research',\n",
       " 'bren',\n",
       " 'ics',\n",
       " 'news',\n",
       " 'information',\n",
       " 'markellekelly',\n",
       " 'students',\n",
       " 'donald',\n",
       " 'data',\n",
       " '2020',\n",
       " 'september',\n",
       " 'professor',\n",
       " 'sciences',\n",
       " 'irvine',\n",
       " 'university',\n",
       " 'faculty',\n",
       " 'new',\n",
       " 'california',\n",
       " 'student',\n",
       " 'work',\n",
       " 'says',\n",
       " 'html',\n",
       " 'media',\n",
       " 'october',\n",
       " 'events',\n",
       " 'update',\n",
       " 'learning',\n",
       " '2017',\n",
       " 'technology',\n",
       " 'program',\n",
       " '2018',\n",
       " '2019',\n",
       " 'also',\n",
       " 'time',\n",
       " 'automatic',\n",
       " 'world',\n",
       " 'informatics',\n",
       " 'software',\n",
       " '10',\n",
       " '12',\n",
       " 'contact',\n",
       " '2016',\n",
       " 'people',\n",
       " 'year']"
      ]
     },
     "execution_count": 9,
     "metadata": {},
     "output_type": "execute_result"
    }
   ],
   "source": [
    "words[0:50]"
   ]
  },
  {
   "cell_type": "code",
   "execution_count": 10,
   "id": "2ddf2c32",
   "metadata": {},
   "outputs": [],
   "source": [
    "subdomain_data = []\n",
    "for domain, url_set in subdomains.items():\n",
    "    subdomain_data.append((domain, len(url_set)))\n",
    "subdomain_data.sort(key = lambda x: x[0])"
   ]
  },
  {
   "cell_type": "code",
   "execution_count": 12,
   "id": "0dd928b3",
   "metadata": {},
   "outputs": [
    {
     "data": {
      "text/plain": [
       "[('acoi.ics.uci.edu', 1),\n",
       " ('aiclub.ics.uci.edu', 1),\n",
       " ('alumni.ics.uci.edu', 6),\n",
       " ('archive.ics.uci.edu', 1),\n",
       " ('asterix.ics.uci.edu', 2),\n",
       " ('asterixdb.ics.uci.edu', 1),\n",
       " ('calendar.ics.uci.edu', 1),\n",
       " ('cert.ics.uci.edu', 1),\n",
       " ('cgvw.ics.uci.edu', 1),\n",
       " ('checkmate.ics.uci.edu', 1),\n",
       " ('chenli.ics.uci.edu', 1),\n",
       " ('cloudberry.ics.uci.edu', 4),\n",
       " ('cml.ics.uci.edu', 3),\n",
       " ('coronavirustwittermap.ics.uci.edu', 2),\n",
       " ('create.ics.uci.edu', 2),\n",
       " ('cwicsocal18.ics.uci.edu', 1),\n",
       " ('cyberclub.ics.uci.edu', 2),\n",
       " ('dgillen.ics.uci.edu', 3),\n",
       " ('duttgroup.ics.uci.edu', 2),\n",
       " ('elms.ics.uci.edu', 1),\n",
       " ('emj.ics.uci.edu', 2),\n",
       " ('evoke.ics.uci.edu', 4),\n",
       " ('flamingo.ics.uci.edu', 1),\n",
       " ('fr.ics.uci.edu', 2),\n",
       " ('frost.ics.uci.edu', 1),\n",
       " ('futurehealth.ics.uci.edu', 5),\n",
       " ('graphics.ics.uci.edu', 2),\n",
       " ('hack.ics.uci.edu', 2),\n",
       " ('hai.ics.uci.edu', 2),\n",
       " ('hana.ics.uci.edu', 2),\n",
       " ('hombao.ics.uci.edu', 3),\n",
       " ('honors.ics.uci.edu', 2),\n",
       " ('hpi.ics.uci.edu', 4),\n",
       " ('iasl.ics.uci.edu', 3),\n",
       " ('ics.uci.edu', 2),\n",
       " ('ieee.ics.uci.edu', 1),\n",
       " ('industryshowcase.ics.uci.edu', 4),\n",
       " ('informatics.ics.uci.edu', 1),\n",
       " ('intranet.ics.uci.edu', 2),\n",
       " ('ipubmed.ics.uci.edu', 1),\n",
       " ('isg.ics.uci.edu', 4),\n",
       " ('jgarcia.ics.uci.edu', 1),\n",
       " ('keys.ics.uci.edu', 1),\n",
       " ('labbie.ics.uci.edu', 1),\n",
       " ('luci.ics.uci.edu', 2),\n",
       " ('malek.ics.uci.edu', 2),\n",
       " ('mcs.ics.uci.edu', 7),\n",
       " ('mdogucu.ics.uci.edu', 1),\n",
       " ('mds.ics.uci.edu', 3),\n",
       " ('mhcid.ics.uci.edu', 4),\n",
       " ('mse.ics.uci.edu', 1),\n",
       " ('mswe.ics.uci.edu', 1),\n",
       " ('mt-live.ics.uci.edu', 1),\n",
       " ('nalini.ics.uci.edu', 2),\n",
       " ('ngs.ics.uci.edu', 2),\n",
       " ('password.ics.uci.edu', 1),\n",
       " ('plrg.ics.uci.edu', 1),\n",
       " ('radicle.ics.uci.edu', 1),\n",
       " ('redmiles.ics.uci.edu', 1),\n",
       " ('riscit.ics.uci.edu', 1),\n",
       " ('sconce.ics.uci.edu', 1),\n",
       " ('sdcl.ics.uci.edu', 2),\n",
       " ('sherlock.ics.uci.edu', 1),\n",
       " ('sprout.ics.uci.edu', 2),\n",
       " ('statconsulting.ics.uci.edu', 5),\n",
       " ('student-council.ics.uci.edu', 2),\n",
       " ('studentcouncil.ics.uci.edu', 6),\n",
       " ('support.ics.uci.edu', 2),\n",
       " ('tad.ics.uci.edu', 1),\n",
       " ('testlab.ics.uci.edu', 1),\n",
       " ('timesheet.ics.uci.edu', 1),\n",
       " ('tippersweb.ics.uci.edu', 5),\n",
       " ('transformativeplay.ics.uci.edu', 10),\n",
       " ('ugradforms.ics.uci.edu', 1),\n",
       " ('unite.ics.uci.edu', 3),\n",
       " ('vision.ics.uci.edu', 2),\n",
       " ('wics.ics.uci.edu', 5),\n",
       " ('www.cs.uci.edu', 1234),\n",
       " ('www.ics.uci.edu', 1753),\n",
       " ('www.informatics.uci.edu', 568),\n",
       " ('www.stat.uci.edu', 434)]"
      ]
     },
     "execution_count": 12,
     "metadata": {},
     "output_type": "execute_result"
    }
   ],
   "source": [
    "subdomain_data"
   ]
  },
  {
   "cell_type": "code",
   "execution_count": null,
   "id": "606b3d96",
   "metadata": {},
   "outputs": [],
   "source": []
  }
 ],
 "metadata": {
  "kernelspec": {
   "display_name": "Python 3 (ipykernel)",
   "language": "python",
   "name": "python3"
  },
  "language_info": {
   "codemirror_mode": {
    "name": "ipython",
    "version": 3
   },
   "file_extension": ".py",
   "mimetype": "text/x-python",
   "name": "python",
   "nbconvert_exporter": "python",
   "pygments_lexer": "ipython3",
   "version": "3.10.9"
  }
 },
 "nbformat": 4,
 "nbformat_minor": 5
}
