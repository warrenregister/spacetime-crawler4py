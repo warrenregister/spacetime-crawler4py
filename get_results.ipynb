{
 "cells": [
  {
   "cell_type": "code",
   "execution_count": 1,
   "id": "934946f4",
   "metadata": {},
   "outputs": [],
   "source": [
    "import pickle\n",
    "import shelve"
   ]
  },
  {
   "cell_type": "code",
   "execution_count": 2,
   "id": "7d5502c1",
   "metadata": {},
   "outputs": [
    {
     "name": "stdout",
     "output_type": "stream",
     "text": [
      "\u001b[34mLogs\u001b[m\u001b[m                  frontier.shelve.db    sitemaps.pkl\r\n",
      "README.md             get_results.ipynb     \u001b[34mtemplate_files\u001b[m\u001b[m\r\n",
      "__init__.py           launch.py             \u001b[34mtests\u001b[m\u001b[m\r\n",
      "\u001b[34m__pycache__\u001b[m\u001b[m           max_words.pkl         \u001b[34mutils\u001b[m\u001b[m\r\n",
      "\u001b[34mbackup_datastructures\u001b[m\u001b[m \u001b[34mpackages\u001b[m\u001b[m              webcrawlernotes.md\r\n",
      "config.ini            pytestdebug.log       word_count.pkl\r\n",
      "\u001b[34mcrawler\u001b[m\u001b[m               scraper.py\r\n"
     ]
    }
   ],
   "source": [
    "!ls"
   ]
  },
  {
   "cell_type": "code",
   "execution_count": 3,
   "id": "0672b5bf",
   "metadata": {},
   "outputs": [],
   "source": [
    "fields = []\n",
    "backups = './backup_datastructures/'\n",
    "for filename in ['subdomains.pkl', 'max_words.pkl', 'word_count.pkl', 'sitemaps.pkl']:\n",
    "    with open(backups + filename, 'rb') as file:\n",
    "        fields.append(pickle.load(file))"
   ]
  },
  {
   "cell_type": "code",
   "execution_count": 4,
   "id": "5323eccd",
   "metadata": {},
   "outputs": [],
   "source": [
    "subdomains = fields[0]\n",
    "max_words = fields[1]\n",
    "word_count = fields[2]\n",
    "sitemaps = fields[3]"
   ]
  },
  {
   "cell_type": "code",
   "execution_count": 5,
   "id": "f4750f75",
   "metadata": {},
   "outputs": [],
   "source": [
    "test = shelve.open(backups + 'frontier.shelve')"
   ]
  },
  {
   "cell_type": "code",
   "execution_count": 6,
   "id": "165182b2",
   "metadata": {},
   "outputs": [],
   "source": [
    "test.close()"
   ]
  },
  {
   "cell_type": "code",
   "execution_count": 7,
   "id": "ea7c5d39",
   "metadata": {},
   "outputs": [
    {
     "name": "stdout",
     "output_type": "stream",
     "text": [
      "14981\n"
     ]
    }
   ],
   "source": [
    "unique_urls_processed = set()\n",
    "with shelve.open(backups + 'frontier.shelve') as save:\n",
    "    for url_hash, values in save.items():\n",
    "        url, depth, scraped = values\n",
    "        if scraped is True:\n",
    "            unique_urls_processed.add(url)\n",
    "print(len(unique_urls_processed))"
   ]
  },
  {
   "cell_type": "code",
   "execution_count": 8,
   "id": "5e7f2aa4",
   "metadata": {},
   "outputs": [
    {
     "data": {
      "text/plain": [
       "('https://www.stat.uci.edu/covid19', 24947)"
      ]
     },
     "execution_count": 8,
     "metadata": {},
     "output_type": "execute_result"
    }
   ],
   "source": [
    "max_words"
   ]
  },
  {
   "cell_type": "code",
   "execution_count": 9,
   "id": "10cdcc6b",
   "metadata": {},
   "outputs": [],
   "source": [
    "words = []\n",
    "for word, count in word_count.items():\n",
    "    words.append((word, count))"
   ]
  },
  {
   "cell_type": "code",
   "execution_count": 10,
   "id": "c2ecef4e",
   "metadata": {},
   "outputs": [],
   "source": [
    "words.sort(key = lambda x : x[1], reverse=True)\n",
    "words = [x for x, y in words]"
   ]
  },
  {
   "cell_type": "code",
   "execution_count": 11,
   "id": "dc36c6de",
   "metadata": {},
   "outputs": [
    {
     "data": {
      "text/plain": [
       "['uci',\n",
       " 'data',\n",
       " 'computer',\n",
       " '2022',\n",
       " '2021',\n",
       " 'information',\n",
       " 'research',\n",
       " 'markellekelly',\n",
       " 'science',\n",
       " 'school',\n",
       " '2020',\n",
       " 'ics',\n",
       " 'bren',\n",
       " 'news',\n",
       " 'new',\n",
       " '1',\n",
       " 'students',\n",
       " 'learning',\n",
       " 'university',\n",
       " '2018',\n",
       " 'september',\n",
       " '2',\n",
       " 'time',\n",
       " 'html',\n",
       " 'sciences',\n",
       " 'professor',\n",
       " '10',\n",
       " 'irvine',\n",
       " 'events',\n",
       " 'one',\n",
       " 'people',\n",
       " '2019',\n",
       " 'donald',\n",
       " 'systems',\n",
       " 'may',\n",
       " 'update',\n",
       " '0',\n",
       " '2017',\n",
       " 'also',\n",
       " 'work',\n",
       " 'faculty',\n",
       " 'contact',\n",
       " 'machine',\n",
       " 'automatic',\n",
       " 'set',\n",
       " '2015',\n",
       " '2016',\n",
       " 'software',\n",
       " 'project',\n",
       " '12']"
      ]
     },
     "execution_count": 11,
     "metadata": {},
     "output_type": "execute_result"
    }
   ],
   "source": [
    "words[0:50]"
   ]
  },
  {
   "cell_type": "code",
   "execution_count": 12,
   "id": "2ddf2c32",
   "metadata": {},
   "outputs": [],
   "source": [
    "subdomain_data = []\n",
    "for domain, url_set in subdomains.items():\n",
    "    subdomain_data.append((domain, len(url_set)))\n",
    "subdomain_data.sort(key = lambda x: x[0])"
   ]
  },
  {
   "cell_type": "code",
   "execution_count": 13,
   "id": "0dd928b3",
   "metadata": {},
   "outputs": [
    {
     "data": {
      "text/plain": [
       "[('acoi.ics.uci.edu', 88),\n",
       " ('aiclub.ics.uci.edu', 1),\n",
       " ('alumni.ics.uci.edu', 6),\n",
       " ('archive-beta.ics.uci.edu', 3),\n",
       " ('archive.ics.uci.edu', 2518),\n",
       " ('asterix.ics.uci.edu', 11),\n",
       " ('asterixdb.ics.uci.edu', 3),\n",
       " ('auge.ics.uci.edu', 2),\n",
       " ('calendar.ics.uci.edu', 1),\n",
       " ('cbcl.ics.uci.edu', 1),\n",
       " ('cert.ics.uci.edu', 38),\n",
       " ('cgvw.ics.uci.edu', 1),\n",
       " ('checkmate.ics.uci.edu', 1),\n",
       " ('chenli.ics.uci.edu', 16),\n",
       " ('cherry.ics.uci.edu', 1),\n",
       " ('chime.ics.uci.edu', 1),\n",
       " ('cloudberry.ics.uci.edu', 3),\n",
       " ('cml.ics.uci.edu', 157),\n",
       " ('code.ics.uci.edu', 23),\n",
       " ('codeexchange.ics.uci.edu', 1),\n",
       " ('computableplant.ics.uci.edu', 131),\n",
       " ('coronavirustwittermap.ics.uci.edu', 1),\n",
       " ('cradl.ics.uci.edu', 41),\n",
       " ('create.ics.uci.edu', 16),\n",
       " ('cwicsocal18.ics.uci.edu', 15),\n",
       " ('cyberclub.ics.uci.edu', 6),\n",
       " ('dblp.ics.uci.edu', 2),\n",
       " ('dejavu.ics.uci.edu', 2),\n",
       " ('dgillen.ics.uci.edu', 29),\n",
       " ('duttgroup.ics.uci.edu', 103),\n",
       " ('elms.ics.uci.edu', 2),\n",
       " ('emj-pc.ics.uci.edu', 1),\n",
       " ('emj.ics.uci.edu', 47),\n",
       " ('esl.ics.uci.edu', 7),\n",
       " ('evoke.ics.uci.edu', 5),\n",
       " ('flamingo.ics.uci.edu', 50),\n",
       " ('fr.ics.uci.edu', 9),\n",
       " ('frost.ics.uci.edu', 1),\n",
       " ('futurehealth.ics.uci.edu', 102),\n",
       " ('grape.ics.uci.edu', 4615),\n",
       " ('graphics.ics.uci.edu', 10),\n",
       " ('hack.ics.uci.edu', 2),\n",
       " ('hai.ics.uci.edu', 7),\n",
       " ('hana.ics.uci.edu', 3),\n",
       " ('hobbes.ics.uci.edu', 11),\n",
       " ('hombao.ics.uci.edu', 2),\n",
       " ('honors.ics.uci.edu', 2),\n",
       " ('hpi.ics.uci.edu', 12),\n",
       " ('iasl.ics.uci.edu', 23),\n",
       " ('ics.uci.edu', 8),\n",
       " ('ieee.ics.uci.edu', 1),\n",
       " ('industryshowcase.ics.uci.edu', 32),\n",
       " ('informatics.ics.uci.edu', 2),\n",
       " ('intranet.ics.uci.edu', 1),\n",
       " ('ipf.ics.uci.edu', 10),\n",
       " ('ipubmed.ics.uci.edu', 3),\n",
       " ('isg.ics.uci.edu', 305),\n",
       " ('jgarcia.ics.uci.edu', 19),\n",
       " ('jujube.ics.uci.edu', 2),\n",
       " ('kdd.ics.uci.edu', 4),\n",
       " ('keys.ics.uci.edu', 3),\n",
       " ('labbie.ics.uci.edu', 1),\n",
       " ('luci.ics.uci.edu', 20),\n",
       " ('mailman.ics.uci.edu', 2),\n",
       " ('malek.ics.uci.edu', 1),\n",
       " ('mapgrid.ics.uci.edu', 1),\n",
       " ('mcs.ics.uci.edu', 40),\n",
       " ('mdogucu.ics.uci.edu', 3),\n",
       " ('mds.ics.uci.edu', 15),\n",
       " ('metaviz.ics.uci.edu', 1),\n",
       " ('mhcid.ics.uci.edu', 6),\n",
       " ('mondego.ics.uci.edu', 15),\n",
       " ('mse.ics.uci.edu', 1),\n",
       " ('mswe.ics.uci.edu', 33),\n",
       " ('mt-live.ics.uci.edu', 2),\n",
       " ('nalini.ics.uci.edu', 14),\n",
       " ('ngs.ics.uci.edu', 2309),\n",
       " ('password.ics.uci.edu', 1),\n",
       " ('plrg.ics.uci.edu', 1),\n",
       " ('psearch.ics.uci.edu', 5),\n",
       " ('radicle.ics.uci.edu', 6),\n",
       " ('redmiles.ics.uci.edu', 11),\n",
       " ('riscit.ics.uci.edu', 2),\n",
       " ('satware.ics.uci.edu', 1),\n",
       " ('sconce.ics.uci.edu', 1),\n",
       " ('sdcl.ics.uci.edu', 275),\n",
       " ('se.ics.uci.edu', 6),\n",
       " ('seal.ics.uci.edu', 44),\n",
       " ('seraja.ics.uci.edu', 2),\n",
       " ('sherlock.ics.uci.edu', 8),\n",
       " ('sourcerer.ics.uci.edu', 3),\n",
       " ('sprout.ics.uci.edu', 2),\n",
       " ('statconsulting.ics.uci.edu', 5),\n",
       " ('student-council.ics.uci.edu', 2),\n",
       " ('studentcouncil.ics.uci.edu', 8),\n",
       " ('support.ics.uci.edu', 2),\n",
       " ('tad.ics.uci.edu', 1),\n",
       " ('tastier.ics.uci.edu', 1),\n",
       " ('testlab.ics.uci.edu', 1),\n",
       " ('timesheet.ics.uci.edu', 1),\n",
       " ('tippersweb.ics.uci.edu', 4),\n",
       " ('transformativeplay.ics.uci.edu', 249),\n",
       " ('ugradforms.ics.uci.edu', 1),\n",
       " ('unite.ics.uci.edu', 18),\n",
       " ('vision.ics.uci.edu', 213),\n",
       " ('wearablegames.ics.uci.edu', 9),\n",
       " ('wics.ics.uci.edu', 1433),\n",
       " ('www-db.ics.uci.edu', 47),\n",
       " ('www.cs.uci.edu', 1310),\n",
       " ('www.graphics.ics.uci.edu', 7),\n",
       " ('www.ics.uci.edu', 2145),\n",
       " ('www.informatics.ics.uci.edu', 1),\n",
       " ('www.informatics.uci.edu', 714),\n",
       " ('www.isg.ics.uci.edu', 1),\n",
       " ('www.stat.uci.edu', 468),\n",
       " ('xtune.ics.uci.edu', 6)]"
      ]
     },
     "execution_count": 13,
     "metadata": {},
     "output_type": "execute_result"
    }
   ],
   "source": []
  },
  {
   "cell_type": "code",
   "execution_count": 14,
   "id": "606b3d96",
   "metadata": {},
   "outputs": [
    {
     "name": "stdout",
     "output_type": "stream",
     "text": [
      "18002\n"
     ]
    }
   ],
   "source": [
    "sum = 0\n",
    "for domain, count in subdomain_data:\n",
    "    sum += count\n",
    "print(sum)"
   ]
  },
  {
   "cell_type": "code",
   "execution_count": null,
   "id": "fafc778d",
   "metadata": {},
   "outputs": [],
   "source": []
  }
 ],
 "metadata": {
  "kernelspec": {
   "display_name": "Python 3 (ipykernel)",
   "language": "python",
   "name": "python3"
  },
  "language_info": {
   "codemirror_mode": {
    "name": "ipython",
    "version": 3
   },
   "file_extension": ".py",
   "mimetype": "text/x-python",
   "name": "python",
   "nbconvert_exporter": "python",
   "pygments_lexer": "ipython3",
   "version": "3.10.9"
  }
 },
 "nbformat": 4,
 "nbformat_minor": 5
}
