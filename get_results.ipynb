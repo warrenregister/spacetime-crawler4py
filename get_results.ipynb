{
 "cells": [
  {
   "cell_type": "code",
   "execution_count": 1,
   "id": "934946f4",
   "metadata": {},
   "outputs": [],
   "source": [
    "import pickle\n",
    "import shelve"
   ]
  },
  {
   "cell_type": "code",
   "execution_count": 2,
   "id": "7d5502c1",
   "metadata": {},
   "outputs": [
    {
     "name": "stdout",
     "output_type": "stream",
     "text": [
      "\u001b[34mLogs\u001b[m\u001b[m                  frontier.shelve.db    sitemaps.pkl\r\n",
      "README.md             get_results.ipynb     \u001b[34mtemplate_files\u001b[m\u001b[m\r\n",
      "__init__.py           launch.py             \u001b[34mtests\u001b[m\u001b[m\r\n",
      "\u001b[34m__pycache__\u001b[m\u001b[m           max_words.pkl         \u001b[34mutils\u001b[m\u001b[m\r\n",
      "\u001b[34mbackup_datastructures\u001b[m\u001b[m \u001b[34mpackages\u001b[m\u001b[m              webcrawlernotes.md\r\n",
      "config.ini            pytestdebug.log       word_count.pkl\r\n",
      "\u001b[34mcrawler\u001b[m\u001b[m               scraper.py\r\n"
     ]
    }
   ],
   "source": [
    "!ls"
   ]
  },
  {
   "cell_type": "code",
   "execution_count": 3,
   "id": "0672b5bf",
   "metadata": {},
   "outputs": [],
   "source": [
    "fields = []\n",
    "backups = './backup_datastructures/'\n",
    "for filename in ['subdomains.pkl', 'max_words.pkl', 'word_count.pkl', 'sitemaps.pkl']:\n",
    "    with open(backups + filename, 'rb') as file:\n",
    "        fields.append(pickle.load(file))"
   ]
  },
  {
   "cell_type": "code",
   "execution_count": 4,
   "id": "5323eccd",
   "metadata": {},
   "outputs": [],
   "source": [
    "subdomains = fields[0]\n",
    "max_words = fields[1]\n",
    "word_count = fields[2]\n",
    "sitemaps = fields[3]"
   ]
  },
  {
   "cell_type": "code",
   "execution_count": 5,
   "id": "f4750f75",
   "metadata": {},
   "outputs": [],
   "source": [
    "test = shelve.open(backups + 'frontier.shelve')"
   ]
  },
  {
   "cell_type": "code",
   "execution_count": 6,
   "id": "165182b2",
   "metadata": {},
   "outputs": [],
   "source": [
    "test.close()"
   ]
  },
  {
   "cell_type": "code",
   "execution_count": 7,
   "id": "ea7c5d39",
   "metadata": {},
   "outputs": [
    {
     "name": "stdout",
     "output_type": "stream",
     "text": [
      "8066\n"
     ]
    }
   ],
   "source": [
    "unique_urls_processed = set()\n",
    "with shelve.open(backups + 'frontier.shelve') as save:\n",
    "    for url_hash, values in save.items():\n",
    "        url, depth, scraped = values\n",
    "        if scraped is True:\n",
    "            unique_urls_processed.add(url)\n",
    "print(len(unique_urls_processed))"
   ]
  },
  {
   "cell_type": "code",
   "execution_count": 9,
   "id": "5e7f2aa4",
   "metadata": {},
   "outputs": [
    {
     "data": {
      "text/plain": [
       "(None, 0)"
      ]
     },
     "execution_count": 9,
     "metadata": {},
     "output_type": "execute_result"
    }
   ],
   "source": [
    "max_words"
   ]
  },
  {
   "cell_type": "code",
   "execution_count": 10,
   "id": "10cdcc6b",
   "metadata": {},
   "outputs": [],
   "source": [
    "words = []\n",
    "for word, count in word_count.items():\n",
    "    words.append((word, count))"
   ]
  },
  {
   "cell_type": "code",
   "execution_count": 11,
   "id": "c2ecef4e",
   "metadata": {},
   "outputs": [],
   "source": [
    "words.sort(key = lambda x : x[1], reverse=True)\n",
    "words = [x for x, y in words]"
   ]
  },
  {
   "cell_type": "code",
   "execution_count": 12,
   "id": "dc36c6de",
   "metadata": {},
   "outputs": [
    {
     "data": {
      "text/plain": [
       "[]"
      ]
     },
     "execution_count": 12,
     "metadata": {},
     "output_type": "execute_result"
    }
   ],
   "source": [
    "words[0:50]"
   ]
  },
  {
   "cell_type": "code",
   "execution_count": 13,
   "id": "2ddf2c32",
   "metadata": {},
   "outputs": [],
   "source": [
    "subdomain_data = []\n",
    "for domain, url_set in subdomains.items():\n",
    "    subdomain_data.append((domain, len(url_set)))\n",
    "subdomain_data.sort(key = lambda x: x[0])"
   ]
  },
  {
   "cell_type": "code",
   "execution_count": 15,
   "id": "0dd928b3",
   "metadata": {},
   "outputs": [
    {
     "data": {
      "text/plain": [
       "[('www.cs.uci.edu', 534),\n",
       " ('www.ics.uci.edu', 1),\n",
       " ('www.informatics.uci.edu', 1),\n",
       " ('www.stat.uci.edu', 224)]"
      ]
     },
     "execution_count": 15,
     "metadata": {},
     "output_type": "execute_result"
    }
   ],
   "source": [
    "subdomain_data"
   ]
  },
  {
   "cell_type": "code",
   "execution_count": 14,
   "id": "606b3d96",
   "metadata": {},
   "outputs": [
    {
     "name": "stdout",
     "output_type": "stream",
     "text": [
      "760\n"
     ]
    }
   ],
   "source": [
    "sum = 0\n",
    "for domain, count in subdomain_data:\n",
    "    sum += count\n",
    "print(sum)"
   ]
  },
  {
   "cell_type": "code",
   "execution_count": null,
   "id": "a5b88403",
   "metadata": {},
   "outputs": [],
   "source": []
  }
 ],
 "metadata": {
  "kernelspec": {
   "display_name": "Python 3 (ipykernel)",
   "language": "python",
   "name": "python3"
  },
  "language_info": {
   "codemirror_mode": {
    "name": "ipython",
    "version": 3
   },
   "file_extension": ".py",
   "mimetype": "text/x-python",
   "name": "python",
   "nbconvert_exporter": "python",
   "pygments_lexer": "ipython3",
   "version": "3.10.9"
  }
 },
 "nbformat": 4,
 "nbformat_minor": 5
}
